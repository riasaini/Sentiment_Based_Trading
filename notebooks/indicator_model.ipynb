{
 "cells": [
  {
   "cell_type": "markdown",
   "metadata": {},
   "source": [
    "## Indicator Based Strategy Model"
   ]
  },
  {
   "cell_type": "code",
   "execution_count": 1,
   "metadata": {},
   "outputs": [],
   "source": [
    "import sys\n",
    "import os\n",
    "sys.path.append(os.path.abspath('../util'))\n",
    "\n",
    "from tqdm import tqdm\n",
    "import pandas as pd\n",
    "import numpy as np\n",
    "import matplotlib.pyplot as plt\n",
    "from sklearn.ensemble import RandomForestClassifier\n",
    "from sklearn.metrics import accuracy_score, f1_score\n",
    "\n",
    "tqdm.pandas()"
   ]
  },
  {
   "cell_type": "code",
   "execution_count": 2,
   "metadata": {},
   "outputs": [],
   "source": [
    "# Load Processed Data\n",
    "prices_df = pd.read_csv('../data/prices.csv', parse_dates=['date'])\n",
    "price_matrix = prices_df.pivot(index='date', columns='ticker', values='close').sort_index()"
   ]
  },
  {
   "cell_type": "code",
   "execution_count": 3,
   "metadata": {},
   "outputs": [],
   "source": [
    "# Generates technical indicators from a stock’s historical prices]\n",
    "def create_features(prices):\n",
    "    df = pd.DataFrame(index=prices.index)\n",
    "    df['price'] = prices\n",
    "    df['return_5d'] = prices.pct_change(5)\n",
    "    df['sma_20'] = prices.rolling(20).mean()\n",
    "    df['rsi_14'] = 100 - (100 / (1 + prices.pct_change().rolling(14).mean() / prices.pct_change().rolling(14).std()))\n",
    "    df['macd'] = prices.ewm(span=12).mean() - prices.ewm(span=26).mean()\n",
    "    df['volatility_10'] = prices.pct_change().rolling(10).std()\n",
    "    df['price_sma_ratio'] = prices / df['sma_20']\n",
    "    return df.dropna()"
   ]
  },
  {
   "cell_type": "code",
   "execution_count": 5,
   "metadata": {},
   "outputs": [],
   "source": [
    "# Creates classification labels based on future price movement\n",
    "# - Computes the return over a forward-looking window (lookahead)\n",
    "# - Assigns label 1 if the return exceeds the given threshold, -1 if the return is below \n",
    "#   the -threshold, else 0\n",
    "\n",
    "def create_labels(prices, threshold=0.001, lookahead=5):\n",
    "    future_return = prices.shift(-lookahead) / prices - 1\n",
    "    labels = pd.Series(0, index=prices.index)\n",
    "    labels[future_return > threshold] = 1\n",
    "    labels[future_return < -threshold] = -1\n",
    "    return labels"
   ]
  },
  {
   "cell_type": "markdown",
   "metadata": {},
   "source": [
    "## Model Training and Signal Generation\n",
    "\n",
    "Trains a separate binary classifier for each stock using only price-based features. Data is split into training (pre-2018) and testing (2018 onward). A RandomForestClassifier is trained to predict whether the stock will go up (label 1) or not (label 0).\n",
    "\n",
    "Position Assignment:\n",
    "\n",
    "- Long (1000) if predicted probability for class 1 > 0.3\n",
    "- Short (-1000) if probability for class 0 > 0.6\n",
    "- Otherwise, hold (0)"
   ]
  },
  {
   "cell_type": "code",
   "execution_count": 6,
   "metadata": {},
   "outputs": [
    {
     "name": "stdout",
     "output_type": "stream",
     "text": [
      "\n",
      "Model Performance Summary:\n",
      "       accuracy  f1_score\n",
      "AAPL      0.612     0.440\n",
      "AMD       0.581     0.378\n",
      "AMZN      0.545     0.353\n",
      "ASML      0.536     0.517\n",
      "CSCO      0.512     0.504\n",
      "GOOGL     0.457     0.457\n",
      "INTC      0.588     0.461\n",
      "MSFT      0.634     0.480\n",
      "MU        0.545     0.437\n",
      "NVDA      0.568     0.411\n"
     ]
    }
   ],
   "source": [
    "positions_df = pd.DataFrame()\n",
    "metrics = {}\n",
    "\n",
    "for symbol in price_matrix.columns:\n",
    "    prices = price_matrix[symbol].dropna()\n",
    "    features = create_features(prices)\n",
    "    labels = create_labels(prices).reindex(features.index)\n",
    "    data = features.copy()\n",
    "    data['label'] = labels\n",
    "    data = data[data['label'].isin([-1, 1])].dropna()\n",
    "\n",
    "    train = data[(data.index < '2018-06-01')]\n",
    "    test = data[data.index >= '2018-06-01']\n",
    "    X_train, y_train = train.drop('label', axis=1), train['label']\n",
    "    X_test, y_test = test.drop('label', axis=1), test['label']\n",
    "\n",
    "    model = RandomForestClassifier(n_estimators=100, class_weight='balanced', max_depth=7, random_state=42)\n",
    "    model.fit(X_train, y_train)\n",
    "\n",
    "    probs = model.predict_proba(X_test)\n",
    "    predictions = []\n",
    "    for row in probs:\n",
    "        prob_map = dict(zip(model.classes_, row))\n",
    "        if prob_map.get(1, 0) > 0.4:\n",
    "            predictions.append(1000)\n",
    "        elif prob_map.get(-1, 0) > 0.4:\n",
    "            predictions.append(-1000)\n",
    "        else:\n",
    "            predictions.append(0)\n",
    "\n",
    "    positions_df[symbol] = pd.Series(predictions, index=X_test.index)\n",
    "    \n",
    "    y_pred = pd.Series(predictions, index=X_test.index).map({-1000: -1, 0: 0, 1000: 1})\n",
    "    acc = accuracy_score(y_test, y_pred)\n",
    "    f1 = f1_score(y_test, y_pred, average='macro', zero_division=0)\n",
    "    metrics[symbol] = {'accuracy': acc, 'f1_score': f1}\n",
    "\n",
    "    importances = model.feature_importances_\n",
    "    feature_names = X_train.columns\n",
    "    sorted_idx = np.argsort(importances)[::-1]\n",
    "\n",
    "metrics_df = pd.DataFrame(metrics).T\n",
    "print(\"\\nModel Performance Summary:\")\n",
    "print(metrics_df.round(3))"
   ]
  },
  {
   "cell_type": "code",
   "execution_count": 7,
   "metadata": {},
   "outputs": [],
   "source": [
    "positions_df = positions_df.reindex(index=price_matrix.index, columns=price_matrix.columns)\n",
    "positions_df = positions_df.ffill().fillna(0).astype(int)\n",
    "trades_df = positions_df.diff().fillna(positions_df).astype(int)\n",
    "trades_df.to_csv('../data/indicator_strategy.csv', index=True)"
   ]
  }
 ],
 "metadata": {
  "kernelspec": {
   "display_name": "base",
   "language": "python",
   "name": "python3"
  },
  "language_info": {
   "codemirror_mode": {
    "name": "ipython",
    "version": 3
   },
   "file_extension": ".py",
   "mimetype": "text/x-python",
   "name": "python",
   "nbconvert_exporter": "python",
   "pygments_lexer": "ipython3",
   "version": "3.12.4"
  }
 },
 "nbformat": 4,
 "nbformat_minor": 2
}
