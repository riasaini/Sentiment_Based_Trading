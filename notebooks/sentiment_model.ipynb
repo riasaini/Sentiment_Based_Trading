{
 "cells": [
  {
   "cell_type": "markdown",
   "metadata": {},
   "source": [
    "## Sentiment Strategy Model"
   ]
  },
  {
   "cell_type": "code",
   "execution_count": 157,
   "metadata": {},
   "outputs": [],
   "source": [
    "import pandas as pd\n",
    "import numpy as np\n",
    "from sklearn.ensemble import RandomForestClassifier\n",
    "from sklearn.metrics import accuracy_score, f1_score\n",
    "import matplotlib.pyplot as plt"
   ]
  },
  {
   "cell_type": "code",
   "execution_count": 158,
   "metadata": {},
   "outputs": [],
   "source": [
    "# Load Processed Data\n",
    "df_prices = pd.read_csv('../data/prices.csv', parse_dates=['date'])\n",
    "price_matrix = df_prices.pivot(index='date', columns='ticker', values='close').sort_index()\n",
    "df_sentiment = pd.read_csv('../data/sentiment.csv', parse_dates=['date'])\n",
    "df_sentiment['date'] = pd.to_datetime(df_sentiment['date'])"
   ]
  },
  {
   "cell_type": "code",
   "execution_count": 159,
   "metadata": {},
   "outputs": [],
   "source": [
    "# Generates a feature set by merging sentiment statistics with the stock’s daily price index, \n",
    "# forward-filling to align quarterly sentiment data with daily observations.\n",
    "def create_features(prices, sentiment_df, ticker):\n",
    "    df = pd.DataFrame(index=prices.index)\n",
    "    sent_cols = [\n",
    "        'mean_positive', 'mean_neutral', 'mean_negative',\n",
    "        'std_positive', 'std_neutral', 'std_negative',\n",
    "        'polarity_score', 'polarity_std',\n",
    "        'max_positive', 'min_negative', 'num_paragraphs'\n",
    "    ]\n",
    "    sent = sentiment_df[sentiment_df['ticker'] == ticker].copy()\n",
    "    sent = sent.set_index('date')[sent_cols]\n",
    "    sent = sent.sort_index().reindex(df.index, method='ffill')\n",
    "    df = df.join(sent)\n",
    "\n",
    "    return df.dropna()"
   ]
  },
  {
   "cell_type": "code",
   "execution_count": 160,
   "metadata": {},
   "outputs": [],
   "source": [
    "# Creates classification labels based on future price movement\n",
    "# - Computes the return over a forward-looking window (lookahead)\n",
    "# - Assigns label 1 if the return exceeds the given threshold, -1 if the return is below \n",
    "#   the -threshold, else 0\n",
    "\n",
    "def create_labels(prices, threshold=0.001, lookahead=5):\n",
    "    future_return = prices.shift(-lookahead) / prices - 1\n",
    "    labels = pd.Series(0, index=prices.index)\n",
    "    labels[future_return > threshold] = 1\n",
    "    labels[future_return < -threshold] = -1\n",
    "    return labels"
   ]
  },
  {
   "cell_type": "markdown",
   "metadata": {},
   "source": [
    "## Model Training and Signal Generation\n",
    "\n",
    "Trains a separate Randome Forest classifier for each stock using only sentiment features. Data is split into training (pre-2018) and testing (2018 onward). A RandomForestClassifier is trained to predict whether the stock will go up (label 1), down (label -1), or not (label 0).\n",
    "\n",
    "Position Assignment:\n",
    "\n",
    "- Long (1000) if predicted probability for class 1 > 0.4\n",
    "- Short (-1000) if probability for class -1 > 0.4\n",
    "- Otherwise, hold (0)"
   ]
  },
  {
   "cell_type": "code",
   "execution_count": 161,
   "metadata": {},
   "outputs": [
    {
     "name": "stdout",
     "output_type": "stream",
     "text": [
      "\n",
      "Sentiment Model Performance Summary:\n",
      "       accuracy  f1_score\n",
      "AAPL      0.661     0.563\n",
      "AMD       0.598     0.374\n",
      "AMZN      0.584     0.579\n",
      "ASML      0.612     0.534\n",
      "CSCO      0.591     0.507\n",
      "GOOGL     0.605     0.526\n",
      "INTC      0.582     0.504\n",
      "MSFT      0.621     0.521\n",
      "MU        0.634     0.634\n",
      "NVDA      0.599     0.578\n"
     ]
    }
   ],
   "source": [
    "positions_df = pd.DataFrame()\n",
    "metrics = {}\n",
    "\n",
    "for symbol in price_matrix.columns:\n",
    "    prices = price_matrix[symbol].dropna()\n",
    "    features = create_features(prices, df_sentiment, symbol)\n",
    "    labels = create_labels(prices).reindex(features.index)\n",
    "    data = features.copy()\n",
    "    data['label'] = labels\n",
    "    data = data[data['label'].isin([-1, 1])].dropna()\n",
    "\n",
    "    train = data\n",
    "    test = data[data.index >= '2018-06-01']\n",
    "    X_train, y_train = train.drop('label', axis=1), train['label']\n",
    "    X_test, y_test = test.drop('label', axis=1), test['label']\n",
    "\n",
    "    model = RandomForestClassifier(n_estimators=100, class_weight='balanced', max_depth=4, random_state=42)\n",
    "    model.fit(X_train, y_train)\n",
    "\n",
    "    probs = model.predict_proba(X_test)\n",
    "    predictions = []\n",
    "    for row in probs:\n",
    "        prob_map = dict(zip(model.classes_, row))\n",
    "        if prob_map.get(1, 0) > 0.4:\n",
    "            predictions.append(1000)\n",
    "        elif prob_map.get(-1, 0) > 0.4:\n",
    "            predictions.append(-1000)\n",
    "        else:\n",
    "            predictions.append(0)\n",
    "\n",
    "    positions_df[symbol] = pd.Series(predictions, index=X_test.index)\n",
    "    \n",
    "    y_pred = pd.Series(predictions, index=X_test.index).map({-1000: -1, 0: 0, 1000: 1})\n",
    "    acc = accuracy_score(y_test, y_pred)\n",
    "    f1 = f1_score(y_test, y_pred, average='macro', zero_division=0)\n",
    "    metrics[symbol] = {'accuracy': acc, 'f1_score': f1}\n",
    "\n",
    "    importances = model.feature_importances_\n",
    "    feature_names = X_train.columns\n",
    "    sorted_idx = np.argsort(importances)[::-1]\n",
    "\n",
    "metrics_df = pd.DataFrame(metrics).T\n",
    "print(\"\\nSentiment Model Performance Summary:\")\n",
    "print(metrics_df.round(3))"
   ]
  },
  {
   "cell_type": "code",
   "execution_count": 162,
   "metadata": {},
   "outputs": [],
   "source": [
    "trades_df = positions_df.fillna(0).diff()\n",
    "trades_df.to_csv('../data/sentiment_strategy.csv', index=True)"
   ]
  }
 ],
 "metadata": {
  "kernelspec": {
   "display_name": "base",
   "language": "python",
   "name": "python3"
  },
  "language_info": {
   "codemirror_mode": {
    "name": "ipython",
    "version": 3
   },
   "file_extension": ".py",
   "mimetype": "text/x-python",
   "name": "python",
   "nbconvert_exporter": "python",
   "pygments_lexer": "ipython3",
   "version": "3.12.4"
  }
 },
 "nbformat": 4,
 "nbformat_minor": 2
}
