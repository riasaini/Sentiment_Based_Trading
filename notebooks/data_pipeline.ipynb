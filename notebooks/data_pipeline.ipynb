{
 "cells": [
  {
   "cell_type": "code",
   "execution_count": 1,
   "metadata": {},
   "outputs": [],
   "source": [
    "import sys\n",
    "import os\n",
    "sys.path.append(os.path.abspath('../util'))\n",
    "\n",
    "from tqdm import tqdm\n",
    "import pandas as pd\n",
    "import yfinance as yf\n",
    "from load_transcripts import load_all_transcripts\n",
    "from sentiment import get_sentiment_features\n",
    "\n",
    "tqdm.pandas()"
   ]
  },
  {
   "cell_type": "markdown",
   "metadata": {},
   "source": [
    "## Sentiment Feature Extraction\n",
    "\n",
    "1. All transcript files are loaded into a single DataFrame using load_all_transcripts()\n",
    "\n",
    "2. Each transcript's text is split into individual paragraphs\n",
    "\n",
    "3. The get_sentiment_features() function is applied to each list of paragraphs\n",
    "\n",
    "4. The resulting sentiment feature set is combined with the corresponding transcript metadata (ticker, quarter, and date) to form df_sentiment."
   ]
  },
  {
   "cell_type": "code",
   "execution_count": 2,
   "metadata": {},
   "outputs": [
    {
     "name": "stderr",
     "output_type": "stream",
     "text": [
      "100%|██████████| 188/188 [22:27<00:00,  7.17s/it]\n"
     ]
    }
   ],
   "source": [
    "df = load_all_transcripts(data_dir='../data/transcripts')\n",
    "\n",
    "df['paragraphs'] = df['text'].apply(lambda x: x.split('\\n\\n'))\n",
    "sentiment_features = df['paragraphs'].progress_apply(get_sentiment_features)\n",
    "sentiment_df = pd.DataFrame(sentiment_features.tolist())\n",
    "\n",
    "df_sentiment = pd.concat([\n",
    "    df[['ticker', 'quarter', 'date']].reset_index(drop=True),\n",
    "    sentiment_df\n",
    "], axis=1)"
   ]
  },
  {
   "cell_type": "code",
   "execution_count": 3,
   "metadata": {},
   "outputs": [],
   "source": [
    "df_sentiment.to_csv('../data/sentiment.csv', index=False)"
   ]
  },
  {
   "cell_type": "markdown",
   "metadata": {},
   "source": [
    "## Price Data Collection\n",
    "\n",
    "Tickers are extracted from df_sentiment and historical daily closing prices are downloaded from Yahoo Finance from 2000-01-01 to 2020-12-31. The final df_prices DataFrame contains three columns: date, ticker, and close."
   ]
  },
  {
   "cell_type": "code",
   "execution_count": 14,
   "metadata": {},
   "outputs": [
    {
     "name": "stderr",
     "output_type": "stream",
     "text": [
      "[*********************100%***********************]  10 of 10 completed\n"
     ]
    }
   ],
   "source": [
    "tickers = df_sentiment['ticker'].unique().tolist()\n",
    "\n",
    "start_date = '2005-01-01'\n",
    "end_date = '2020-01-01'\n",
    "price_data = yf.download(tickers, start=start_date, end=end_date, progress=True)['Close']\n",
    "\n",
    "df_prices = price_data.reset_index().melt(id_vars='Date', var_name='ticker', value_name='close')\n",
    "df_prices = df_prices.rename(columns={'Date': 'date'})\n",
    "df_prices = df_prices.dropna()"
   ]
  },
  {
   "cell_type": "code",
   "execution_count": 15,
   "metadata": {},
   "outputs": [],
   "source": [
    "df_prices.to_csv('../data/prices.csv', index=False)"
   ]
  }
 ],
 "metadata": {
  "kernelspec": {
   "display_name": "base",
   "language": "python",
   "name": "python3"
  },
  "language_info": {
   "codemirror_mode": {
    "name": "ipython",
    "version": 3
   },
   "file_extension": ".py",
   "mimetype": "text/x-python",
   "name": "python",
   "nbconvert_exporter": "python",
   "pygments_lexer": "ipython3",
   "version": "3.12.4"
  }
 },
 "nbformat": 4,
 "nbformat_minor": 2
}
